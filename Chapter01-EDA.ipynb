{
 "cells": [
  {
   "cell_type": "code",
   "execution_count": 1,
   "metadata": {},
   "outputs": [],
   "source": [
    "import numpy as np\n",
    "import pandas as pd\n",
    "import matplotlib.pyplot as plt"
   ]
  },
  {
   "cell_type": "markdown",
   "metadata": {},
   "source": [
    "# 第1章 探索性数据分析\n",
    "\n",
    "统计学是一门应用科学关注的是数据的分析和建模。探索数据是所有数据科学项目的第一步。探索性数据分析（EDA）是统计学中一个相对新的领域。经典统计学几乎只注重推断，即从小样本得出关于整体数据的结论。约翰图基于1962年在论文“The Future of Data Analysis”中提出了“数据分析”的学科，并将统计推断包括在其中。于1977年出版了“Exploratory Data Analysis”一书，提出了“探索性数据分析”的研究领域。\n",
    "\n",
    "## 1.1 结构化数据的组成\n",
    "如何将大量的原始数据转换为可操作的信息，这是数据科学所面对的主要挑战。使用统计学的概念，需要将非结构化的原始数据结构化，或者出于研究目的采集数据。\n",
    "\n",
    "*术语*\n",
    "- 连续型数据：可以在一个区间内取任何值。同义词：区间数据，浮点型数据，数值数据。\n",
    "- 离散型数据：数据只能取整数，例如计数。同义词：整数型数据，计数型数据。\n",
    "- 分类型数据：数值只能从特定的集合中取值，表示一系列可能的分类。同义词：枚举数据，列举数据，因子数据，标称数据，多分支数据。\n",
    "- 二元数据：一种特殊的分类数据，数值只能从两个值中取一个。同义词：二分数据，逻辑型数据，指示性数据，布尔型数据。\n",
    "- 有序数据：具有明确排序的分类数据。同义词：有序因子数据。\n",
    "\n",
    "对于数据分析和预测建模来说，数据建模对于确定可视化类型，数据分析或者统计模型是非常重要的。使用数据类型可以改善计算性能。变量的数据类型决定了软件处理变量的计算方法。\n",
    "\n",
    "## 1.2 矩形数据\n",
    "\n",
    "矩形数据对象是数据科学分析中典型引用结构，举行数据对象包括电子表格，数据库表格等。举行数据本质是一个二维矩阵。通常一行表示一个记录（事例），列表示特征（变量）。数据通常并非一开始就是矩形形式的，先经过处理，才能转换为相应形式。\n",
    "\n",
    "### 1.2.1 数据框和索引\n",
    "\n",
    "传统的数据库表会指定一列或者多列作为索引，索引可以极大提高某些SQL查询的效率。pandas数据分析库中基本的举矩形数据结构是DataFrame对象，默认会创建一个整型索引，支持设置多级或者层次索引，以提高特定操作的效率。\n",
    "\n",
    "*术语差异*\n",
    "统计学家在模型中使用预测变量去预测一个响应或因变量，而数据科学家使用特征来预测目标。对于一行数据，计算机科学家使用样本这一术语；而统计学家使用样本表示一个行的集合。\n",
    "\n",
    "### 1.2.2 非矩形数据结构\n",
    "\n",
    "时序数据记录了对同一变量的连续测量值。时序数据是统计预测方法的原始输入数据，也是物联网设备所产生对 数据的管家组成部分。\n",
    "\n",
    "空间数据结构用于地图和定位分析。在对象标识中，空间数据关注的是对象及空间坐标。字段视图关注空间中的小单元及相关的度量值。\n",
    "\n",
    "图形（或网络）数据结构用于表示物理上，社交网络上的抽象关系。图形结构对于网络优化和推荐系统等问题十分重要。\n",
    "\n",
    "*统计学中图*\n",
    "计算机学学中，图通常表示对实体之间的关联情况的描述，是底层的数据结构。统计学中，图用于指代各种绘图和可视化结构，而不仅仅是指实体间的关联情况，通常用来指代可视化，而非数据结构。\n",
    "\n",
    "### 1.2.3 扩展阅读\n",
    "\n",
    "- Python中关于数据框的文档：[Pandas DataFrame](https://pandas.pydata.org/pandas-docs/stable/reference/api/pandas.DataFrame.html#pandas.DataFrame)\n",
    "\n",
    "\n",
    "## 1.3 位置估计\n",
    "\n",
    "变量表示了测量数据或者计数数据。探索数据的一个基本步骤就是获取每个特征（变量）的“典型值”。典型值是对数据最常出现位置的估计，即数据的集中趋势。\n",
    "\n",
    "*术语*\n",
    "\n",
    "| 术语       | 定义                                                       | 同义词       |\n",
    "| ---------- | ---------------------------------------------------------- | ------------ |\n",
    "| 均值       | 所有数据之和除以数值的个数                                 | 平均数       |\n",
    "| 加权均值   | 各数值乘以相应的权重值，相加求和，再除以权重总和。         | 加权平均值   |\n",
    "| 中位数     | 使得数据集中有一半数据位于该值之上和之下                   | 第50百分位数 |\n",
    "| 加权中位数 | 使得排序数据集中，分别有一半的权重之和位于该值之上和之下。 |              |\n",
    "| 切尾均值   | 从数据集中剔除一定数量的极值后，再求均值。                 | 截尾均值     |\n",
    "| 稳健       | 对极值不敏感                                               | 耐抗性       |\n",
    "| 离群值     | 与大部分数值差异很大的数据值。                             | 极值         |\n",
    "|            | (*注*：形式化的定义和运算在后续章节中。)                     |              |\n",
    "\n",
    "\n",
    "\n",
    "\n",
    "\n",
    "估计量（estimate）表示从手头已有数据中计算得到的值，用于描述观察值和确切的（理论上为真的）状态之间的差异，数据科学家跟倾向于称这些计算得到的值为度量（metric）。统计学的核心是如何解释不确定度，而数据科学家关注如何解决一个具体的目标。因此，统计学家使用估计量，而数据科学家使用度量。\n",
    "\n",
    "\n",
    "\n",
    "### 1.3.1 均值\n",
    "\n",
    "均值，又成为平均值。均值等于所有值的和除以值的个数。给定n个数据值：$x_1, x_2, \\dots, x_n$，均值计算公式：\n",
    "\n",
    "$$\n",
    "均值=\\overline{x}=\\frac{\\sum_{i=1}^{n}x_i }{n}\n",
    "$$\n"
   ]
  },
  {
   "cell_type": "code",
   "execution_count": 2,
   "metadata": {},
   "outputs": [
    {
     "data": {
      "text/plain": [
       "2.75"
      ]
     },
     "execution_count": 2,
     "metadata": {},
     "output_type": "execute_result"
    }
   ],
   "source": [
    "x=[3,5,1,2]\n",
    "x_mean=sum(x)/len(x)\n",
    "x_mean"
   ]
  },
  {
   "cell_type": "code",
   "execution_count": 3,
   "metadata": {},
   "outputs": [
    {
     "data": {
      "text/plain": [
       "2.75"
      ]
     },
     "execution_count": 3,
     "metadata": {},
     "output_type": "execute_result"
    }
   ],
   "source": [
    "def simple_average(x):\n",
    "    return np.sum(x)/len(x)\n",
    "\n",
    "x=[3,5,1,2]\n",
    "simple_average(x)"
   ]
  },
  {
   "cell_type": "markdown",
   "metadata": {},
   "source": [
    "**切尾均值**：是均值的一种变体。在有序数据集的咯昂段去除一定数量的值，再计算剩余部分的均值。对于有序数据集$x_{(1)},x_{(2)},\\dots, x_{(n)}$，其中$x_{(1)}$表示最小值，$x_{(n)}$表示最大值，从序列中去除p个最大值和p个最小值后的切尾均值的计算公式：\n",
    "$$\n",
    "切尾均值=\\overline{x}=\\frac{\\sum_{i=p+1}^{n-p}x_{(i)} }{n-2p}\n",
    "$$"
   ]
  },
  {
   "cell_type": "code",
   "execution_count": 4,
   "metadata": {},
   "outputs": [
    {
     "name": "stdout",
     "output_type": "stream",
     "text": [
      "3.5\n"
     ]
    }
   ],
   "source": [
    "# def tail_average(x, p):\n",
    "#     return np.sum(sorted(x)[p:-p])/(len(x)-2*p)\n",
    "\n",
    "# x=np.array([4, 5, 3, 10, 0, 2])\n",
    "# print(tail_average(x, p=2))\n",
    "\n",
    "def tail_average(x, trim):\n",
    "    n=len(x)\n",
    "    p=int(n*trim)\n",
    "    #print(sorted(x)[p:n-p])\n",
    "    return np.sum(sorted(x)[p:n-p])/(n-2*p)\n",
    "\n",
    "x=np.array([4, 5, 3, 10, 0, 2])\n",
    "print(tail_average(x, trim=0.2))"
   ]
  },
  {
   "cell_type": "markdown",
   "metadata": {},
   "source": [
    "**加权均值**：将每个值$x_i$乘以一个权重值$w_i$，并将加权值的总和除以权重的总和，计算公式为：\n",
    "$$\n",
    "加权均值=\\overline{x_w}=\\frac{\\sum_{i=1}^{n} w_ix_i}{\\sum_{i=1}^{n}w_i}\n",
    "$$"
   ]
  },
  {
   "cell_type": "code",
   "execution_count": 5,
   "metadata": {},
   "outputs": [
    {
     "data": {
      "text/plain": [
       "0.33333333333333331"
      ]
     },
     "execution_count": 5,
     "metadata": {},
     "output_type": "execute_result"
    }
   ],
   "source": [
    "def weighted_average(x,w):\n",
    "    return np.sum(x*w)/np.sum(w)\n",
    "\n",
    "x=np.array([1,2,3])\n",
    "w=np.array([4,0,-1])\n",
    "weighted_average(x,w)"
   ]
  },
  {
   "cell_type": "markdown",
   "metadata": {},
   "source": [
    "**中位数**是位于有序数据集中间位置的数值。如果数值的个数为偶数，那么中位数实际上是位于中间位置的两个值的均值。"
   ]
  },
  {
   "cell_type": "code",
   "execution_count": 6,
   "metadata": {},
   "outputs": [
    {
     "name": "stdout",
     "output_type": "stream",
     "text": [
      "2\n",
      "1.5\n"
     ]
    }
   ],
   "source": [
    "def simple_median(x):\n",
    "    n=len(x)\n",
    "    x=np.sort(x)\n",
    "    return (x[int(n/2)-1]+x[int(n/2)])/2.0 if n%2==0 else x[int(n/2)]\n",
    "\n",
    "x=np.array([1,3,2,0,100])\n",
    "print(simple_median(x))\n",
    "x=np.array([1,3,2,0])\n",
    "print(simple_median(x))"
   ]
  },
  {
   "cell_type": "markdown",
   "metadata": {},
   "source": [
    "**加权中位数**取可以使有序数据集上下两部分的权重总和相同的值。\n",
    "\n",
    "加权中位数和中位数对离群值不敏感。\n"
   ]
  },
  {
   "cell_type": "code",
   "execution_count": 7,
   "metadata": {},
   "outputs": [
    {
     "data": {
      "text/plain": [
       "3.0"
      ]
     },
     "execution_count": 7,
     "metadata": {},
     "output_type": "execute_result"
    }
   ],
   "source": [
    "def weighted_median(x, w):\n",
    "    t=[]\n",
    "    for x_, w_ in zip(x, w):\n",
    "        t.append([x_, w_]) \n",
    "    t=np.array(sorted(t, key=lambda xx:xx[0]))\n",
    "    tw=t[:,1]\n",
    "    tw_accum=np.cumsum(tw)\n",
    "    idx=np.where(tw_accum>tw_accum[-1]/2)[0][0]\n",
    "    return t[idx][0]\n",
    "\n",
    "x=np.array([1,3,2,0,100])\n",
    "w=np.array([0.1,0.5,0.25,0.0,0.15])\n",
    "weighted_median(x,w)"
   ]
  },
  {
   "cell_type": "markdown",
   "metadata": {},
   "source": [
    "**离群值**是距离数据集中其他所有值都很远的值。离群值本身并不一定是无效或者错误的数据，但往往是由数据的错误所导致的。"
   ]
  },
  {
   "cell_type": "code",
   "execution_count": 8,
   "metadata": {},
   "outputs": [
    {
     "data": {
      "text/html": [
       "<div>\n",
       "<style>\n",
       "    .dataframe thead tr:only-child th {\n",
       "        text-align: right;\n",
       "    }\n",
       "\n",
       "    .dataframe thead th {\n",
       "        text-align: left;\n",
       "    }\n",
       "\n",
       "    .dataframe tbody tr th {\n",
       "        vertical-align: top;\n",
       "    }\n",
       "</style>\n",
       "<table border=\"1\" class=\"dataframe\">\n",
       "  <thead>\n",
       "    <tr style=\"text-align: right;\">\n",
       "      <th></th>\n",
       "      <th>muder_rate</th>\n",
       "      <th>population</th>\n",
       "      <th>state</th>\n",
       "    </tr>\n",
       "  </thead>\n",
       "  <tbody>\n",
       "    <tr>\n",
       "      <th>0</th>\n",
       "      <td>5.7</td>\n",
       "      <td>4779736</td>\n",
       "      <td>阿拉巴马州</td>\n",
       "    </tr>\n",
       "    <tr>\n",
       "      <th>1</th>\n",
       "      <td>5.6</td>\n",
       "      <td>710231</td>\n",
       "      <td>阿拉斯加州</td>\n",
       "    </tr>\n",
       "    <tr>\n",
       "      <th>2</th>\n",
       "      <td>4.7</td>\n",
       "      <td>6392017</td>\n",
       "      <td>亚利桑那州</td>\n",
       "    </tr>\n",
       "    <tr>\n",
       "      <th>3</th>\n",
       "      <td>5.6</td>\n",
       "      <td>2915918</td>\n",
       "      <td>阿肯色州</td>\n",
       "    </tr>\n",
       "    <tr>\n",
       "      <th>4</th>\n",
       "      <td>4.4</td>\n",
       "      <td>37253956</td>\n",
       "      <td>加利福尼亚州</td>\n",
       "    </tr>\n",
       "    <tr>\n",
       "      <th>5</th>\n",
       "      <td>2.8</td>\n",
       "      <td>5029196</td>\n",
       "      <td>科罗拉多州</td>\n",
       "    </tr>\n",
       "    <tr>\n",
       "      <th>6</th>\n",
       "      <td>2.4</td>\n",
       "      <td>3574097</td>\n",
       "      <td>康涅狄格州</td>\n",
       "    </tr>\n",
       "    <tr>\n",
       "      <th>7</th>\n",
       "      <td>5.8</td>\n",
       "      <td>897934</td>\n",
       "      <td>特拉华州</td>\n",
       "    </tr>\n",
       "  </tbody>\n",
       "</table>\n",
       "</div>"
      ],
      "text/plain": [
       "   muder_rate  population   state\n",
       "0         5.7     4779736   阿拉巴马州\n",
       "1         5.6      710231   阿拉斯加州\n",
       "2         4.7     6392017   亚利桑那州\n",
       "3         5.6     2915918    阿肯色州\n",
       "4         4.4    37253956  加利福尼亚州\n",
       "5         2.8     5029196   科罗拉多州\n",
       "6         2.4     3574097   康涅狄格州\n",
       "7         5.8      897934    特拉华州"
      ]
     },
     "execution_count": 8,
     "metadata": {},
     "output_type": "execute_result"
    }
   ],
   "source": [
    "muder={'state':['阿拉巴马州','阿拉斯加州','亚利桑那州','阿肯色州','加利福尼亚州','科罗拉多州','康涅狄格州','特拉华州'],\n",
    "      'population':[4779736, 710231, 6392017, 2915918, 37253956, 5029196, 3574097, 897934],\n",
    "      'muder_rate':[5.7, 5.6, 4.7, 5.6, 4.4, 2.8, 2.4, 5.8]}\n",
    "\n",
    "muder_df=pd.DataFrame(muder)\n",
    "muder_df"
   ]
  },
  {
   "cell_type": "code",
   "execution_count": 9,
   "metadata": {},
   "outputs": [
    {
     "data": {
      "text/plain": [
       "0     4779736\n",
       "1      710231\n",
       "2     6392017\n",
       "3     2915918\n",
       "4    37253956\n",
       "5     5029196\n",
       "6     3574097\n",
       "7      897934\n",
       "Name: population, dtype: int64"
      ]
     },
     "execution_count": 9,
     "metadata": {},
     "output_type": "execute_result"
    }
   ],
   "source": [
    "muder_df['population']"
   ]
  },
  {
   "cell_type": "code",
   "execution_count": 10,
   "metadata": {},
   "outputs": [
    {
     "data": {
      "text/plain": [
       "7694135.625"
      ]
     },
     "execution_count": 10,
     "metadata": {},
     "output_type": "execute_result"
    }
   ],
   "source": [
    "simple_average(muder_df['population'])"
   ]
  },
  {
   "cell_type": "code",
   "execution_count": 11,
   "metadata": {},
   "outputs": [
    {
     "data": {
      "text/plain": [
       "8"
      ]
     },
     "execution_count": 11,
     "metadata": {},
     "output_type": "execute_result"
    }
   ],
   "source": [
    "len(muder_df['population'])"
   ]
  },
  {
   "cell_type": "code",
   "execution_count": 12,
   "metadata": {},
   "outputs": [
    {
     "data": {
      "text/plain": [
       "61553085"
      ]
     },
     "execution_count": 12,
     "metadata": {},
     "output_type": "execute_result"
    }
   ],
   "source": [
    "sum(muder_df['population'])"
   ]
  },
  {
   "cell_type": "code",
   "execution_count": 13,
   "metadata": {},
   "outputs": [
    {
     "data": {
      "text/plain": [
       "4176916.5"
      ]
     },
     "execution_count": 13,
     "metadata": {},
     "output_type": "execute_result"
    }
   ],
   "source": [
    "simple_median(muder_df['population'])"
   ]
  },
  {
   "cell_type": "code",
   "execution_count": 14,
   "metadata": {},
   "outputs": [
    {
     "data": {
      "text/html": [
       "<div>\n",
       "<style>\n",
       "    .dataframe thead tr:only-child th {\n",
       "        text-align: right;\n",
       "    }\n",
       "\n",
       "    .dataframe thead th {\n",
       "        text-align: left;\n",
       "    }\n",
       "\n",
       "    .dataframe tbody tr th {\n",
       "        vertical-align: top;\n",
       "    }\n",
       "</style>\n",
       "<table border=\"1\" class=\"dataframe\">\n",
       "  <thead>\n",
       "    <tr style=\"text-align: right;\">\n",
       "      <th></th>\n",
       "      <th>State</th>\n",
       "      <th>Population</th>\n",
       "      <th>Murder.Rate</th>\n",
       "      <th>Abbreviation</th>\n",
       "    </tr>\n",
       "  </thead>\n",
       "  <tbody>\n",
       "    <tr>\n",
       "      <th>0</th>\n",
       "      <td>Alabama</td>\n",
       "      <td>4779736</td>\n",
       "      <td>5.7</td>\n",
       "      <td>AL</td>\n",
       "    </tr>\n",
       "    <tr>\n",
       "      <th>1</th>\n",
       "      <td>Alaska</td>\n",
       "      <td>710231</td>\n",
       "      <td>5.6</td>\n",
       "      <td>AK</td>\n",
       "    </tr>\n",
       "    <tr>\n",
       "      <th>2</th>\n",
       "      <td>Arizona</td>\n",
       "      <td>6392017</td>\n",
       "      <td>4.7</td>\n",
       "      <td>AZ</td>\n",
       "    </tr>\n",
       "    <tr>\n",
       "      <th>3</th>\n",
       "      <td>Arkansas</td>\n",
       "      <td>2915918</td>\n",
       "      <td>5.6</td>\n",
       "      <td>AR</td>\n",
       "    </tr>\n",
       "    <tr>\n",
       "      <th>4</th>\n",
       "      <td>California</td>\n",
       "      <td>37253956</td>\n",
       "      <td>4.4</td>\n",
       "      <td>CA</td>\n",
       "    </tr>\n",
       "    <tr>\n",
       "      <th>5</th>\n",
       "      <td>Colorado</td>\n",
       "      <td>5029196</td>\n",
       "      <td>2.8</td>\n",
       "      <td>CO</td>\n",
       "    </tr>\n",
       "    <tr>\n",
       "      <th>6</th>\n",
       "      <td>Connecticut</td>\n",
       "      <td>3574097</td>\n",
       "      <td>2.4</td>\n",
       "      <td>CT</td>\n",
       "    </tr>\n",
       "    <tr>\n",
       "      <th>7</th>\n",
       "      <td>Delaware</td>\n",
       "      <td>897934</td>\n",
       "      <td>5.8</td>\n",
       "      <td>DE</td>\n",
       "    </tr>\n",
       "    <tr>\n",
       "      <th>8</th>\n",
       "      <td>Florida</td>\n",
       "      <td>18801310</td>\n",
       "      <td>5.8</td>\n",
       "      <td>FL</td>\n",
       "    </tr>\n",
       "    <tr>\n",
       "      <th>9</th>\n",
       "      <td>Georgia</td>\n",
       "      <td>9687653</td>\n",
       "      <td>5.7</td>\n",
       "      <td>GA</td>\n",
       "    </tr>\n",
       "    <tr>\n",
       "      <th>10</th>\n",
       "      <td>Hawaii</td>\n",
       "      <td>1360301</td>\n",
       "      <td>1.8</td>\n",
       "      <td>HI</td>\n",
       "    </tr>\n",
       "    <tr>\n",
       "      <th>11</th>\n",
       "      <td>Idaho</td>\n",
       "      <td>1567582</td>\n",
       "      <td>2.0</td>\n",
       "      <td>ID</td>\n",
       "    </tr>\n",
       "    <tr>\n",
       "      <th>12</th>\n",
       "      <td>Illinois</td>\n",
       "      <td>12830632</td>\n",
       "      <td>5.3</td>\n",
       "      <td>IL</td>\n",
       "    </tr>\n",
       "    <tr>\n",
       "      <th>13</th>\n",
       "      <td>Indiana</td>\n",
       "      <td>6483802</td>\n",
       "      <td>5.0</td>\n",
       "      <td>IN</td>\n",
       "    </tr>\n",
       "    <tr>\n",
       "      <th>14</th>\n",
       "      <td>Iowa</td>\n",
       "      <td>3046355</td>\n",
       "      <td>1.9</td>\n",
       "      <td>IA</td>\n",
       "    </tr>\n",
       "    <tr>\n",
       "      <th>15</th>\n",
       "      <td>Kansas</td>\n",
       "      <td>2853118</td>\n",
       "      <td>3.1</td>\n",
       "      <td>KS</td>\n",
       "    </tr>\n",
       "    <tr>\n",
       "      <th>16</th>\n",
       "      <td>Kentucky</td>\n",
       "      <td>4339367</td>\n",
       "      <td>3.6</td>\n",
       "      <td>KY</td>\n",
       "    </tr>\n",
       "    <tr>\n",
       "      <th>17</th>\n",
       "      <td>Louisiana</td>\n",
       "      <td>4533372</td>\n",
       "      <td>10.3</td>\n",
       "      <td>LA</td>\n",
       "    </tr>\n",
       "    <tr>\n",
       "      <th>18</th>\n",
       "      <td>Maine</td>\n",
       "      <td>1328361</td>\n",
       "      <td>1.6</td>\n",
       "      <td>ME</td>\n",
       "    </tr>\n",
       "    <tr>\n",
       "      <th>19</th>\n",
       "      <td>Maryland</td>\n",
       "      <td>5773552</td>\n",
       "      <td>6.1</td>\n",
       "      <td>MD</td>\n",
       "    </tr>\n",
       "    <tr>\n",
       "      <th>20</th>\n",
       "      <td>Massachusetts</td>\n",
       "      <td>6547629</td>\n",
       "      <td>2.0</td>\n",
       "      <td>MA</td>\n",
       "    </tr>\n",
       "    <tr>\n",
       "      <th>21</th>\n",
       "      <td>Michigan</td>\n",
       "      <td>9883640</td>\n",
       "      <td>5.4</td>\n",
       "      <td>MI</td>\n",
       "    </tr>\n",
       "    <tr>\n",
       "      <th>22</th>\n",
       "      <td>Minnesota</td>\n",
       "      <td>5303925</td>\n",
       "      <td>1.6</td>\n",
       "      <td>MN</td>\n",
       "    </tr>\n",
       "    <tr>\n",
       "      <th>23</th>\n",
       "      <td>Mississippi</td>\n",
       "      <td>2967297</td>\n",
       "      <td>8.6</td>\n",
       "      <td>MS</td>\n",
       "    </tr>\n",
       "    <tr>\n",
       "      <th>24</th>\n",
       "      <td>Missouri</td>\n",
       "      <td>5988927</td>\n",
       "      <td>6.6</td>\n",
       "      <td>MO</td>\n",
       "    </tr>\n",
       "    <tr>\n",
       "      <th>25</th>\n",
       "      <td>Montana</td>\n",
       "      <td>989415</td>\n",
       "      <td>3.6</td>\n",
       "      <td>MT</td>\n",
       "    </tr>\n",
       "    <tr>\n",
       "      <th>26</th>\n",
       "      <td>Nebraska</td>\n",
       "      <td>1826341</td>\n",
       "      <td>2.9</td>\n",
       "      <td>NE</td>\n",
       "    </tr>\n",
       "    <tr>\n",
       "      <th>27</th>\n",
       "      <td>Nevada</td>\n",
       "      <td>2700551</td>\n",
       "      <td>6.0</td>\n",
       "      <td>NV</td>\n",
       "    </tr>\n",
       "    <tr>\n",
       "      <th>28</th>\n",
       "      <td>New Hampshire</td>\n",
       "      <td>1316470</td>\n",
       "      <td>0.9</td>\n",
       "      <td>NH</td>\n",
       "    </tr>\n",
       "    <tr>\n",
       "      <th>29</th>\n",
       "      <td>New Jersey</td>\n",
       "      <td>8791894</td>\n",
       "      <td>3.9</td>\n",
       "      <td>NJ</td>\n",
       "    </tr>\n",
       "    <tr>\n",
       "      <th>30</th>\n",
       "      <td>New Mexico</td>\n",
       "      <td>2059179</td>\n",
       "      <td>4.8</td>\n",
       "      <td>NM</td>\n",
       "    </tr>\n",
       "    <tr>\n",
       "      <th>31</th>\n",
       "      <td>New York</td>\n",
       "      <td>19378102</td>\n",
       "      <td>3.1</td>\n",
       "      <td>NY</td>\n",
       "    </tr>\n",
       "    <tr>\n",
       "      <th>32</th>\n",
       "      <td>North Carolina</td>\n",
       "      <td>9535483</td>\n",
       "      <td>5.1</td>\n",
       "      <td>NC</td>\n",
       "    </tr>\n",
       "    <tr>\n",
       "      <th>33</th>\n",
       "      <td>North Dakota</td>\n",
       "      <td>672591</td>\n",
       "      <td>3.0</td>\n",
       "      <td>ND</td>\n",
       "    </tr>\n",
       "    <tr>\n",
       "      <th>34</th>\n",
       "      <td>Ohio</td>\n",
       "      <td>11536504</td>\n",
       "      <td>4.0</td>\n",
       "      <td>OH</td>\n",
       "    </tr>\n",
       "    <tr>\n",
       "      <th>35</th>\n",
       "      <td>Oklahoma</td>\n",
       "      <td>3751351</td>\n",
       "      <td>4.5</td>\n",
       "      <td>OK</td>\n",
       "    </tr>\n",
       "    <tr>\n",
       "      <th>36</th>\n",
       "      <td>Oregon</td>\n",
       "      <td>3831074</td>\n",
       "      <td>2.0</td>\n",
       "      <td>OR</td>\n",
       "    </tr>\n",
       "    <tr>\n",
       "      <th>37</th>\n",
       "      <td>Pennsylvania</td>\n",
       "      <td>12702379</td>\n",
       "      <td>4.8</td>\n",
       "      <td>PA</td>\n",
       "    </tr>\n",
       "    <tr>\n",
       "      <th>38</th>\n",
       "      <td>Rhode Island</td>\n",
       "      <td>1052567</td>\n",
       "      <td>2.4</td>\n",
       "      <td>RI</td>\n",
       "    </tr>\n",
       "    <tr>\n",
       "      <th>39</th>\n",
       "      <td>South Carolina</td>\n",
       "      <td>4625364</td>\n",
       "      <td>6.4</td>\n",
       "      <td>SC</td>\n",
       "    </tr>\n",
       "    <tr>\n",
       "      <th>40</th>\n",
       "      <td>South Dakota</td>\n",
       "      <td>814180</td>\n",
       "      <td>2.3</td>\n",
       "      <td>SD</td>\n",
       "    </tr>\n",
       "    <tr>\n",
       "      <th>41</th>\n",
       "      <td>Tennessee</td>\n",
       "      <td>6346105</td>\n",
       "      <td>5.7</td>\n",
       "      <td>TN</td>\n",
       "    </tr>\n",
       "    <tr>\n",
       "      <th>42</th>\n",
       "      <td>Texas</td>\n",
       "      <td>25145561</td>\n",
       "      <td>4.4</td>\n",
       "      <td>TX</td>\n",
       "    </tr>\n",
       "    <tr>\n",
       "      <th>43</th>\n",
       "      <td>Utah</td>\n",
       "      <td>2763885</td>\n",
       "      <td>2.3</td>\n",
       "      <td>UT</td>\n",
       "    </tr>\n",
       "    <tr>\n",
       "      <th>44</th>\n",
       "      <td>Vermont</td>\n",
       "      <td>625741</td>\n",
       "      <td>1.6</td>\n",
       "      <td>VT</td>\n",
       "    </tr>\n",
       "    <tr>\n",
       "      <th>45</th>\n",
       "      <td>Virginia</td>\n",
       "      <td>8001024</td>\n",
       "      <td>4.1</td>\n",
       "      <td>VA</td>\n",
       "    </tr>\n",
       "    <tr>\n",
       "      <th>46</th>\n",
       "      <td>Washington</td>\n",
       "      <td>6724540</td>\n",
       "      <td>2.5</td>\n",
       "      <td>WA</td>\n",
       "    </tr>\n",
       "    <tr>\n",
       "      <th>47</th>\n",
       "      <td>West Virginia</td>\n",
       "      <td>1852994</td>\n",
       "      <td>4.0</td>\n",
       "      <td>WV</td>\n",
       "    </tr>\n",
       "    <tr>\n",
       "      <th>48</th>\n",
       "      <td>Wisconsin</td>\n",
       "      <td>5686986</td>\n",
       "      <td>2.9</td>\n",
       "      <td>WI</td>\n",
       "    </tr>\n",
       "    <tr>\n",
       "      <th>49</th>\n",
       "      <td>Wyoming</td>\n",
       "      <td>563626</td>\n",
       "      <td>2.7</td>\n",
       "      <td>WY</td>\n",
       "    </tr>\n",
       "  </tbody>\n",
       "</table>\n",
       "</div>"
      ],
      "text/plain": [
       "             State  Population  Murder.Rate Abbreviation\n",
       "0          Alabama     4779736          5.7           AL\n",
       "1           Alaska      710231          5.6           AK\n",
       "2          Arizona     6392017          4.7           AZ\n",
       "3         Arkansas     2915918          5.6           AR\n",
       "4       California    37253956          4.4           CA\n",
       "5         Colorado     5029196          2.8           CO\n",
       "6      Connecticut     3574097          2.4           CT\n",
       "7         Delaware      897934          5.8           DE\n",
       "8          Florida    18801310          5.8           FL\n",
       "9          Georgia     9687653          5.7           GA\n",
       "10          Hawaii     1360301          1.8           HI\n",
       "11           Idaho     1567582          2.0           ID\n",
       "12        Illinois    12830632          5.3           IL\n",
       "13         Indiana     6483802          5.0           IN\n",
       "14            Iowa     3046355          1.9           IA\n",
       "15          Kansas     2853118          3.1           KS\n",
       "16        Kentucky     4339367          3.6           KY\n",
       "17       Louisiana     4533372         10.3           LA\n",
       "18           Maine     1328361          1.6           ME\n",
       "19        Maryland     5773552          6.1           MD\n",
       "20   Massachusetts     6547629          2.0           MA\n",
       "21        Michigan     9883640          5.4           MI\n",
       "22       Minnesota     5303925          1.6           MN\n",
       "23     Mississippi     2967297          8.6           MS\n",
       "24        Missouri     5988927          6.6           MO\n",
       "25         Montana      989415          3.6           MT\n",
       "26        Nebraska     1826341          2.9           NE\n",
       "27          Nevada     2700551          6.0           NV\n",
       "28   New Hampshire     1316470          0.9           NH\n",
       "29      New Jersey     8791894          3.9           NJ\n",
       "30      New Mexico     2059179          4.8           NM\n",
       "31        New York    19378102          3.1           NY\n",
       "32  North Carolina     9535483          5.1           NC\n",
       "33    North Dakota      672591          3.0           ND\n",
       "34            Ohio    11536504          4.0           OH\n",
       "35        Oklahoma     3751351          4.5           OK\n",
       "36          Oregon     3831074          2.0           OR\n",
       "37    Pennsylvania    12702379          4.8           PA\n",
       "38    Rhode Island     1052567          2.4           RI\n",
       "39  South Carolina     4625364          6.4           SC\n",
       "40    South Dakota      814180          2.3           SD\n",
       "41       Tennessee     6346105          5.7           TN\n",
       "42           Texas    25145561          4.4           TX\n",
       "43            Utah     2763885          2.3           UT\n",
       "44         Vermont      625741          1.6           VT\n",
       "45        Virginia     8001024          4.1           VA\n",
       "46      Washington     6724540          2.5           WA\n",
       "47   West Virginia     1852994          4.0           WV\n",
       "48       Wisconsin     5686986          2.9           WI\n",
       "49         Wyoming      563626          2.7           WY"
      ]
     },
     "execution_count": 14,
     "metadata": {},
     "output_type": "execute_result"
    }
   ],
   "source": [
    "muder_us=pd.read_csv('data/state.csv')\n",
    "muder_us"
   ]
  },
  {
   "cell_type": "code",
   "execution_count": 15,
   "metadata": {},
   "outputs": [
    {
     "data": {
      "text/plain": [
       "6162876.3"
      ]
     },
     "execution_count": 15,
     "metadata": {},
     "output_type": "execute_result"
    }
   ],
   "source": [
    "simple_average(muder_us['Population'])"
   ]
  },
  {
   "cell_type": "code",
   "execution_count": 16,
   "metadata": {},
   "outputs": [
    {
     "data": {
      "text/plain": [
       "4436369.5"
      ]
     },
     "execution_count": 16,
     "metadata": {},
     "output_type": "execute_result"
    }
   ],
   "source": [
    "simple_median(muder_us['Population'])"
   ]
  },
  {
   "cell_type": "code",
   "execution_count": 17,
   "metadata": {},
   "outputs": [
    {
     "data": {
      "text/plain": [
       "4783697.125"
      ]
     },
     "execution_count": 17,
     "metadata": {},
     "output_type": "execute_result"
    }
   ],
   "source": [
    "tail_average(muder_us['Population'], trim=0.1)"
   ]
  },
  {
   "cell_type": "code",
   "execution_count": 18,
   "metadata": {},
   "outputs": [
    {
     "data": {
      "text/plain": [
       "0      5.7\n",
       "1      5.6\n",
       "2      4.7\n",
       "3      5.6\n",
       "4      4.4\n",
       "5      2.8\n",
       "6      2.4\n",
       "7      5.8\n",
       "8      5.8\n",
       "9      5.7\n",
       "10     1.8\n",
       "11     2.0\n",
       "12     5.3\n",
       "13     5.0\n",
       "14     1.9\n",
       "15     3.1\n",
       "16     3.6\n",
       "17    10.3\n",
       "18     1.6\n",
       "19     6.1\n",
       "20     2.0\n",
       "21     5.4\n",
       "22     1.6\n",
       "23     8.6\n",
       "24     6.6\n",
       "25     3.6\n",
       "26     2.9\n",
       "27     6.0\n",
       "28     0.9\n",
       "29     3.9\n",
       "30     4.8\n",
       "31     3.1\n",
       "32     5.1\n",
       "33     3.0\n",
       "34     4.0\n",
       "35     4.5\n",
       "36     2.0\n",
       "37     4.8\n",
       "38     2.4\n",
       "39     6.4\n",
       "40     2.3\n",
       "41     5.7\n",
       "42     4.4\n",
       "43     2.3\n",
       "44     1.6\n",
       "45     4.1\n",
       "46     2.5\n",
       "47     4.0\n",
       "48     2.9\n",
       "49     2.7\n",
       "Name: Murder.Rate, dtype: float64"
      ]
     },
     "execution_count": 18,
     "metadata": {},
     "output_type": "execute_result"
    }
   ],
   "source": [
    "muder_us['Murder.Rate']"
   ]
  },
  {
   "cell_type": "code",
   "execution_count": 19,
   "metadata": {},
   "outputs": [
    {
     "data": {
      "text/plain": [
       "4.445833981123394"
      ]
     },
     "execution_count": 19,
     "metadata": {},
     "output_type": "execute_result"
    }
   ],
   "source": [
    "weighted_average(x=muder_us['Murder.Rate'], w=muder_us['Population'])"
   ]
  },
  {
   "cell_type": "code",
   "execution_count": 20,
   "metadata": {},
   "outputs": [
    {
     "data": {
      "text/plain": [
       "4.4000000000000004"
      ]
     },
     "execution_count": 20,
     "metadata": {},
     "output_type": "execute_result"
    }
   ],
   "source": [
    "weighted_median(x=muder_us['Murder.Rate'], w=muder_us['Population'])"
   ]
  },
  {
   "cell_type": "code",
   "execution_count": null,
   "metadata": {},
   "outputs": [],
   "source": []
  }
 ],
 "metadata": {
  "kernelspec": {
   "display_name": "Python 3",
   "language": "python",
   "name": "python3"
  },
  "language_info": {
   "codemirror_mode": {
    "name": "ipython",
    "version": 3
   },
   "file_extension": ".py",
   "mimetype": "text/x-python",
   "name": "python",
   "nbconvert_exporter": "python",
   "pygments_lexer": "ipython3",
   "version": "3.6.3"
  }
 },
 "nbformat": 4,
 "nbformat_minor": 2
}
